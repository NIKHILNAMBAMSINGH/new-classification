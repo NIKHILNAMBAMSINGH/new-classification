{
  "nbformat": 4,
  "nbformat_minor": 0,
  "metadata": {
    "colab": {
      "name": "Untitled15.ipynb",
      "provenance": []
    },
    "kernelspec": {
      "name": "python3",
      "display_name": "Python 3"
    },
    "language_info": {
      "name": "python"
    },
    "accelerator": "GPU"
  },
  "cells": [
    {
      "cell_type": "code",
      "execution_count": 1,
      "metadata": {
        "id": "17RXF_O1S24x"
      },
      "outputs": [],
      "source": [
        "import tensorflow as tf\n",
        "from tensorflow import keras\n",
        "from tensorflow.keras.models import Sequential\n",
        "from tensorflow.keras.layers import Dense, Flatten, Conv2D, MaxPooling2D, Dropout\n",
        "from tensorflow.keras.layers import BatchNormalization\n",
        "from tensorflow.keras.preprocessing.image import ImageDataGenerator\n",
        "from tensorflow.keras.optimizers import Adam, SGD\n",
        "from tensorflow.keras.callbacks import EarlyStopping, ReduceLROnPlateau, ModelCheckpoint\n",
        "\n",
        "import os\n",
        "import cv2\n",
        "import matplotlib.pyplot as plt\n",
        "import seaborn as sns"
      ]
    },
    {
      "cell_type": "code",
      "source": [
        "model5 = Sequential()\n",
        "\n",
        "# Convolutional layer 1\n",
        "model5.add(Conv2D(64,(7,7), input_shape=(200, 200, 1), padding='same', activation='relu'))\n",
        "model5.add(BatchNormalization())\n",
        "model5.add(MaxPooling2D(pool_size=(2,2)))\n",
        "\n",
        "#Convolutional layer 2\n",
        "model5.add(Conv2D(128,(7,7), padding='same', activation='relu'))\n",
        "model5.add(BatchNormalization())\n",
        "model5.add(MaxPooling2D(pool_size=(2,2)))\n",
        "\n",
        "# Convolutional layer 3\n",
        "model5.add(Conv2D(128,(7,7), padding='same', activation='relu'))\n",
        "model5.add(BatchNormalization())\n",
        "model5.add(MaxPooling2D(pool_size=(2,2)))\n",
        "\n",
        "# Convolutional layer 4\n",
        "model5.add(Conv2D(256,(7,7), padding='same', activation='relu'))\n",
        "model5.add(BatchNormalization())\n",
        "model5.add(MaxPooling2D(pool_size=(2,2)))\n",
        "\n",
        " # Convolutional layer 5\n",
        "model5.add(Conv2D(256,(7,7), padding='same', activation='relu'))\n",
        "model5.add(BatchNormalization())\n",
        "model5.add(MaxPooling2D(pool_size=(2,2)))\n",
        "\n",
        "# Convolutional layer 6\n",
        "model5.add(Conv2D(512,(7,7), padding='same', activation='relu'))\n",
        "model5.add(BatchNormalization())\n",
        "model5.add(MaxPooling2D(pool_size=(2,2)))\n",
        "\n",
        "model5.add(Flatten())\n",
        "model5.add(Dense(units= 1024, activation='relu'))\n",
        "model5.add(Dropout(0.25))\n",
        "model5.add(Dense(units=512, activation='relu'))\n",
        "model5.add(Dropout(0.25))\n",
        "model5.add(Dense(units=4, activation='softmax'))\n",
        "\n",
        "\n",
        "model5.compile(optimizer=Adam(lr=0.0001),\n",
        "              loss='categorical_crossentropy',\n",
        "              metrics=['accuracy'])\n"
      ],
      "metadata": {
        "id": "3XvO3mhATR9J",
        "colab": {
          "base_uri": "https://localhost:8080/"
        },
        "outputId": "b1f32194-de90-49bf-d7da-0da1ce237f4a"
      },
      "execution_count": 3,
      "outputs": [
        {
          "output_type": "stream",
          "name": "stderr",
          "text": [
            "/usr/local/lib/python3.7/dist-packages/keras/optimizer_v2/adam.py:105: UserWarning: The `lr` argument is deprecated, use `learning_rate` instead.\n",
            "  super(Adam, self).__init__(name, **kwargs)\n"
          ]
        }
      ]
    },
    {
      "cell_type": "code",
      "source": [
        "generator_train = ImageDataGenerator(rescale=1./255,\n",
        "                                    featurewise_center=False,\n",
        "                                    samplewise_center=False,\n",
        "                                    featurewise_std_normalization=False,\n",
        "                                    samplewise_std_normalization=False,\n",
        "                                    zca_whitening=False,\n",
        "                                    rotation_range=0,\n",
        "                                    zoom_range = 0,\n",
        "                                    width_shift_range=0,\n",
        "                                    height_shift_range=0,\n",
        "                                    horizontal_flip=True,\n",
        "                                    vertical_flip=False,validation_split=0.2)\n",
        "\n",
        "generator_test = ImageDataGenerator(rescale=1./255,\n",
        "                                   featurewise_center=False,\n",
        "                                    samplewise_center=False,\n",
        "                                    featurewise_std_normalization=False,\n",
        "                                    samplewise_std_normalization=False,\n",
        "                                    zca_whitening=False,\n",
        "                                    rotation_range=0,\n",
        "                                    zoom_range = 0,\n",
        "                                    width_shift_range=0,\n",
        "                                    height_shift_range=0,\n",
        "                                    horizontal_flip=True,\n",
        "                                    vertical_flip=False)\n",
        "\n",
        "\n",
        "\n",
        "train = generator_train.flow_from_directory('/content/drive/MyDrive/old brain dataset/Training/', target_size=(200, 200),\n",
        "                                              batch_size=32, class_mode= \"categorical\", color_mode='grayscale',subset='training')\n",
        "val = generator_train.flow_from_directory('/content/drive/MyDrive/old brain dataset/Training/', target_size=(200, 200),\n",
        "                                              batch_size=32, class_mode= \"categorical\", color_mode='grayscale',subset='validation')\n",
        "\n",
        "\n",
        "\n",
        "test = generator_test.flow_from_directory('/content/drive/MyDrive/old brain dataset/Testing/', target_size=(200, 200),\n",
        "                                              batch_size=32, class_mode= \"categorical\", color_mode='grayscale')"
      ],
      "metadata": {
        "id": "lsBij_snTqgb",
        "colab": {
          "base_uri": "https://localhost:8080/"
        },
        "outputId": "8206a266-45ea-43d0-819b-100a93935593"
      },
      "execution_count": 4,
      "outputs": [
        {
          "output_type": "stream",
          "name": "stdout",
          "text": [
            "Found 4571 images belonging to 4 classes.\n",
            "Found 1141 images belonging to 4 classes.\n",
            "Found 1311 images belonging to 4 classes.\n"
          ]
        }
      ]
    },
    {
      "cell_type": "code",
      "source": [
        "model5.compile(optimizer=Adam(lr=0.0001),\n",
        "              loss='categorical_crossentropy',\n",
        "              metrics=['accuracy'])\n",
        "\n",
        "#define checkpoint\n",
        "checkpoint = ModelCheckpoint('model.h5', \n",
        "                             monitor='val_accuracy',\n",
        "                             save_best_only=True,\n",
        "                             mode='auto',\n",
        "                             verbose=1)\n",
        "\n",
        "#early stopping\n",
        "earlystop = EarlyStopping(monitor='val_accuracy',\n",
        "                          patience=5,\n",
        "                          mode='auto',\n",
        "                          verbose=1)\n",
        "\n",
        "#reduce learning rate\n",
        "reduce_lr = ReduceLROnPlateau(monitor = 'val_accuracy', \n",
        "                              factor = 0.3, \n",
        "                              patience = 2, \n",
        "                              min_delta = 0.001,\n",
        "                              mode='auto',\n",
        "                              verbose=1)"
      ],
      "metadata": {
        "colab": {
          "base_uri": "https://localhost:8080/"
        },
        "id": "-yqN3onFVM0G",
        "outputId": "615cf39d-2f14-4dc8-f18e-fec80d2b6fee"
      },
      "execution_count": 5,
      "outputs": [
        {
          "output_type": "stream",
          "name": "stderr",
          "text": [
            "/usr/local/lib/python3.7/dist-packages/keras/optimizer_v2/adam.py:105: UserWarning: The `lr` argument is deprecated, use `learning_rate` instead.\n",
            "  super(Adam, self).__init__(name, **kwargs)\n"
          ]
        }
      ]
    },
    {
      "cell_type": "code",
      "source": [
        "history = model5.fit(train,\n",
        "                    epochs = 100,\n",
        "                    validation_data=val,\n",
        "                    verbose=1,\n",
        "                    callbacks=[checkpoint, earlystop, reduce_lr])"
      ],
      "metadata": {
        "colab": {
          "base_uri": "https://localhost:8080/"
        },
        "id": "-gNZyvDimHI6",
        "outputId": "7e67460d-9871-442b-bfad-040274b1af7c"
      },
      "execution_count": 7,
      "outputs": [
        {
          "output_type": "stream",
          "name": "stdout",
          "text": [
            "Epoch 1/100\n",
            "143/143 [==============================] - ETA: 0s - loss: 0.6972 - accuracy: 0.7532\n",
            "Epoch 1: val_accuracy improved from -inf to 0.25504, saving model to model.h5\n",
            "143/143 [==============================] - 47s 280ms/step - loss: 0.6972 - accuracy: 0.7532 - val_loss: 2.1436 - val_accuracy: 0.2550 - lr: 1.0000e-04\n",
            "Epoch 2/100\n",
            "143/143 [==============================] - ETA: 0s - loss: 0.4388 - accuracy: 0.8350\n",
            "Epoch 2: val_accuracy improved from 0.25504 to 0.27958, saving model to model.h5\n",
            "143/143 [==============================] - 32s 225ms/step - loss: 0.4388 - accuracy: 0.8350 - val_loss: 3.1876 - val_accuracy: 0.2796 - lr: 1.0000e-04\n",
            "Epoch 3/100\n",
            "143/143 [==============================] - ETA: 0s - loss: 0.3178 - accuracy: 0.8797\n",
            "Epoch 3: val_accuracy improved from 0.27958 to 0.50219, saving model to model.h5\n",
            "143/143 [==============================] - 33s 230ms/step - loss: 0.3178 - accuracy: 0.8797 - val_loss: 1.3146 - val_accuracy: 0.5022 - lr: 1.0000e-04\n",
            "Epoch 4/100\n",
            "143/143 [==============================] - ETA: 0s - loss: 0.2414 - accuracy: 0.9171\n",
            "Epoch 4: val_accuracy did not improve from 0.50219\n",
            "143/143 [==============================] - 33s 230ms/step - loss: 0.2414 - accuracy: 0.9171 - val_loss: 2.7970 - val_accuracy: 0.4794 - lr: 1.0000e-04\n",
            "Epoch 5/100\n",
            "143/143 [==============================] - ETA: 0s - loss: 0.2011 - accuracy: 0.9267\n",
            "Epoch 5: val_accuracy improved from 0.50219 to 0.68799, saving model to model.h5\n",
            "143/143 [==============================] - 33s 232ms/step - loss: 0.2011 - accuracy: 0.9267 - val_loss: 0.9631 - val_accuracy: 0.6880 - lr: 1.0000e-04\n",
            "Epoch 6/100\n",
            "143/143 [==============================] - ETA: 0s - loss: 0.1534 - accuracy: 0.9457\n",
            "Epoch 6: val_accuracy improved from 0.68799 to 0.86678, saving model to model.h5\n",
            "143/143 [==============================] - 34s 234ms/step - loss: 0.1534 - accuracy: 0.9457 - val_loss: 0.4122 - val_accuracy: 0.8668 - lr: 1.0000e-04\n",
            "Epoch 7/100\n",
            "143/143 [==============================] - ETA: 0s - loss: 0.1348 - accuracy: 0.9549\n",
            "Epoch 7: val_accuracy did not improve from 0.86678\n",
            "143/143 [==============================] - 33s 229ms/step - loss: 0.1348 - accuracy: 0.9549 - val_loss: 1.6637 - val_accuracy: 0.6687 - lr: 1.0000e-04\n",
            "Epoch 8/100\n",
            "143/143 [==============================] - ETA: 0s - loss: 0.1032 - accuracy: 0.9597\n",
            "Epoch 8: val_accuracy did not improve from 0.86678\n",
            "\n",
            "Epoch 8: ReduceLROnPlateau reducing learning rate to 2.9999999242136255e-05.\n",
            "143/143 [==============================] - 33s 229ms/step - loss: 0.1032 - accuracy: 0.9597 - val_loss: 0.4776 - val_accuracy: 0.8536 - lr: 1.0000e-04\n",
            "Epoch 9/100\n",
            "143/143 [==============================] - ETA: 0s - loss: 0.0471 - accuracy: 0.9858\n",
            "Epoch 9: val_accuracy improved from 0.86678 to 0.91323, saving model to model.h5\n",
            "143/143 [==============================] - 33s 231ms/step - loss: 0.0471 - accuracy: 0.9858 - val_loss: 0.2746 - val_accuracy: 0.9132 - lr: 3.0000e-05\n",
            "Epoch 10/100\n",
            "143/143 [==============================] - ETA: 0s - loss: 0.0263 - accuracy: 0.9928\n",
            "Epoch 10: val_accuracy improved from 0.91323 to 0.92989, saving model to model.h5\n",
            "143/143 [==============================] - 33s 232ms/step - loss: 0.0263 - accuracy: 0.9928 - val_loss: 0.2948 - val_accuracy: 0.9299 - lr: 3.0000e-05\n",
            "Epoch 11/100\n",
            "143/143 [==============================] - ETA: 0s - loss: 0.0148 - accuracy: 0.9958\n",
            "Epoch 11: val_accuracy did not improve from 0.92989\n",
            "143/143 [==============================] - 33s 228ms/step - loss: 0.0148 - accuracy: 0.9958 - val_loss: 0.3327 - val_accuracy: 0.9097 - lr: 3.0000e-05\n",
            "Epoch 12/100\n",
            "143/143 [==============================] - ETA: 0s - loss: 0.0121 - accuracy: 0.9965\n",
            "Epoch 12: val_accuracy did not improve from 0.92989\n",
            "\n",
            "Epoch 12: ReduceLROnPlateau reducing learning rate to 8.999999772640877e-06.\n",
            "143/143 [==============================] - 33s 227ms/step - loss: 0.0121 - accuracy: 0.9965 - val_loss: 0.2915 - val_accuracy: 0.9211 - lr: 3.0000e-05\n",
            "Epoch 13/100\n",
            "143/143 [==============================] - ETA: 0s - loss: 0.0070 - accuracy: 0.9980\n",
            "Epoch 13: val_accuracy did not improve from 0.92989\n",
            "143/143 [==============================] - 33s 228ms/step - loss: 0.0070 - accuracy: 0.9980 - val_loss: 0.2817 - val_accuracy: 0.9273 - lr: 9.0000e-06\n",
            "Epoch 14/100\n",
            "143/143 [==============================] - ETA: 0s - loss: 0.0064 - accuracy: 0.9982\n",
            "Epoch 14: val_accuracy improved from 0.92989 to 0.93339, saving model to model.h5\n",
            "143/143 [==============================] - 33s 233ms/step - loss: 0.0064 - accuracy: 0.9982 - val_loss: 0.2554 - val_accuracy: 0.9334 - lr: 9.0000e-06\n",
            "Epoch 15/100\n",
            "143/143 [==============================] - ETA: 0s - loss: 0.0048 - accuracy: 0.9989\n",
            "Epoch 15: val_accuracy improved from 0.93339 to 0.93602, saving model to model.h5\n",
            "143/143 [==============================] - 33s 232ms/step - loss: 0.0048 - accuracy: 0.9989 - val_loss: 0.2566 - val_accuracy: 0.9360 - lr: 9.0000e-06\n",
            "Epoch 16/100\n",
            "143/143 [==============================] - ETA: 0s - loss: 0.0050 - accuracy: 0.9991\n",
            "Epoch 16: val_accuracy did not improve from 0.93602\n",
            "143/143 [==============================] - 33s 228ms/step - loss: 0.0050 - accuracy: 0.9991 - val_loss: 0.2723 - val_accuracy: 0.9299 - lr: 9.0000e-06\n",
            "Epoch 17/100\n",
            "143/143 [==============================] - ETA: 0s - loss: 0.0061 - accuracy: 0.9987\n",
            "Epoch 17: val_accuracy did not improve from 0.93602\n",
            "\n",
            "Epoch 17: ReduceLROnPlateau reducing learning rate to 2.6999998226528985e-06.\n",
            "143/143 [==============================] - 33s 228ms/step - loss: 0.0061 - accuracy: 0.9987 - val_loss: 0.2858 - val_accuracy: 0.9290 - lr: 9.0000e-06\n",
            "Epoch 18/100\n",
            "143/143 [==============================] - ETA: 0s - loss: 0.0024 - accuracy: 0.9996\n",
            "Epoch 18: val_accuracy did not improve from 0.93602\n",
            "143/143 [==============================] - 33s 230ms/step - loss: 0.0024 - accuracy: 0.9996 - val_loss: 0.2834 - val_accuracy: 0.9238 - lr: 2.7000e-06\n",
            "Epoch 19/100\n",
            "143/143 [==============================] - ETA: 0s - loss: 0.0033 - accuracy: 0.9989\n",
            "Epoch 19: val_accuracy did not improve from 0.93602\n",
            "\n",
            "Epoch 19: ReduceLROnPlateau reducing learning rate to 8.099999604382901e-07.\n",
            "143/143 [==============================] - 33s 231ms/step - loss: 0.0033 - accuracy: 0.9989 - val_loss: 0.2719 - val_accuracy: 0.9308 - lr: 2.7000e-06\n",
            "Epoch 20/100\n",
            "143/143 [==============================] - ETA: 0s - loss: 0.0038 - accuracy: 0.9991\n",
            "Epoch 20: val_accuracy did not improve from 0.93602\n",
            "143/143 [==============================] - 33s 228ms/step - loss: 0.0038 - accuracy: 0.9991 - val_loss: 0.2806 - val_accuracy: 0.9255 - lr: 8.1000e-07\n",
            "Epoch 20: early stopping\n"
          ]
        }
      ]
    },
    {
      "cell_type": "code",
      "source": [
        "fig , ax = plt.subplots(1,2)\n",
        "fig.set_size_inches(20, 8)\n",
        "\n",
        "train_acc = history.history['accuracy']\n",
        "train_loss = history.history['loss']\n",
        "val_acc = history.history['val_accuracy']\n",
        "val_loss = history.history['val_loss']\n",
        "\n",
        "epochs = range(1, len(train_acc) + 1)\n",
        "\n",
        "ax[0].plot(epochs , train_acc , 'g-o' , label = 'Training Accuracy')\n",
        "ax[0].plot(epochs , val_acc , 'y-o' , label = 'Validation Accuracy')\n",
        "ax[0].set_title('Model Training & Validation Accuracy')\n",
        "ax[0].legend(loc = 'lower right')\n",
        "ax[0].set_xlabel(\"Epochs\")\n",
        "ax[0].set_ylabel(\"Accuracy\")\n",
        "\n",
        "ax[1].plot(epochs , train_loss , 'g-o' , label = 'Training Loss')\n",
        "ax[1].plot(epochs , val_loss , 'y-o' , label = 'Validation Loss')\n",
        "ax[1].set_title('Model Training & Validation & Loss')\n",
        "ax[1].legend()\n",
        "ax[1].set_xlabel(\"Epochs\")\n",
        "ax[1].set_ylabel(\"Loss\")\n",
        "\n",
        "plt.show()"
      ],
      "metadata": {
        "colab": {
          "base_uri": "https://localhost:8080/",
          "height": 418
        },
        "id": "QZVG5JeuyEM4",
        "outputId": "37f84e23-ed5c-4a26-bf93-38e47bbf873b"
      },
      "execution_count": 11,
      "outputs": [
        {
          "output_type": "display_data",
          "data": {
            "text/plain": [
              "<Figure size 1440x576 with 2 Axes>"
            ],
            "image/png": "[encoded data removed]"
          },
          "metadata": {
            "needs_background": "light"
          }
        }
      ]
    },
    {
      "cell_type": "code",
      "source": [
        "print('Train accuracy & loss:', model5.evaluate(train))\n",
        "print('\\n')\n",
        "print('Test accuracy & loss:', model5.evaluate(test))"
      ],
      "metadata": {
        "colab": {
          "base_uri": "https://localhost:8080/"
        },
        "id": "rK2T0GeMyVYw",
        "outputId": "dc84d869-9d68-41b8-aaa0-616e0abf6d14"
      },
      "execution_count": 13,
      "outputs": [
        {
          "output_type": "stream",
          "name": "stdout",
          "text": [
            "143/143 [==============================] - 19s 135ms/step - loss: 0.0011 - accuracy: 0.9996\n",
            "Train accuracy & loss: [0.001051620696671307, 0.9995624423027039]\n",
            "\n",
            "\n",
            "41/41 [==============================] - 684s 17s/step - loss: 0.1123 - accuracy: 0.9680\n",
            "Test accuracy & loss: [0.11231651157140732, 0.9679633975028992]\n"
          ]
        }
      ]
    },
    {
      "cell_type": "code",
      "source": [
        "import matplotlib.pyplot as plt\n",
        "import numpy as np # linear algebra\n",
        "import pandas as pd # data processing, CSV file I/O (e.g. pd.read_csv)\n",
        "import seaborn as sns\n",
        "import cv2\n",
        "import tensorflow as tf\n",
        "from tensorflow.keras.preprocessing.image import ImageDataGenerator\n",
        "from tqdm import tqdm\n",
        "y_test = test.classes\n",
        "\n",
        "#make prediction\n",
        "yhat_test = np.argmax(model5.predict(test), axis=1)\n",
        "from sklearn.metrics import classification_report,confusion_matrix\n",
        "import ipywidgets as widgets\n",
        "import io\n",
        "from PIL import Image\n",
        "from IPython.display import display,clear_output\n",
        "from warnings import filterwarnings"
      ],
      "metadata": {
        "id": "fX9WVDR4k0CC"
      },
      "execution_count": 14,
      "outputs": []
    },
    {
      "cell_type": "code",
      "source": [
        "import itertools\n",
        "def plot_confusion_matrix(cm, classes,\n",
        "                          normalize = False,\n",
        "                          title = 'Confusion matrix',\n",
        "                          cmap = plt.cm.Blues):\n",
        "    \n",
        "    plt.figure(figsize = (6,6))\n",
        "    plt.imshow(cm, interpolation = 'nearest', cmap = cmap)\n",
        "    plt.title(title)\n",
        "    plt.colorbar()\n",
        "    plt.grid(False)\n",
        "    tick_marks = np.arange(len(classes))\n",
        "    plt.xticks(tick_marks, classes, rotation = 90)\n",
        "    plt.yticks(tick_marks, classes)\n",
        "    if normalize:\n",
        "        cm = cm.astype('float') / cm.sum(axis = 1)[:, np.newaxis]\n",
        "\n",
        "    thresh = cm.max() / 2.\n",
        "    cm = np.round(cm,2)\n",
        "    for i, j in itertools.product(range(cm.shape[0]), range(cm.shape[1])):\n",
        "        plt.text(j, i, cm[i, j],\n",
        "                 fontsize = 12,\n",
        "                 horizontalalignment = \"center\",\n",
        "                 color = \"white\" if cm[i, j] > thresh else \"black\")\n",
        "    plt.tight_layout()\n",
        "    plt.ylabel('True label')\n",
        "    plt.xlabel('Predicted label')\n",
        "    plt.show()\n",
        "      \n",
        "#get confusion matrix\n",
        "cm = confusion_matrix(y_test, yhat_test)\n",
        "print(cm)"
      ],
      "metadata": {
        "colab": {
          "base_uri": "https://localhost:8080/"
        },
        "id": "-PZLvx9Exnm3",
        "outputId": "d0760d4c-467c-43ab-c6c4-ec56897aefea"
      },
      "execution_count": 15,
      "outputs": [
        {
          "output_type": "stream",
          "name": "stdout",
          "text": [
            "[[ 64  66  98  72]\n",
            " [ 67  61  97  81]\n",
            " [110  88 116  91]\n",
            " [ 56  72 104  68]]\n"
          ]
        }
      ]
    },
    {
      "cell_type": "code",
      "source": [
        "print(classification_report(y_test, yhat_test))"
      ],
      "metadata": {
        "colab": {
          "base_uri": "https://localhost:8080/"
        },
        "id": "qC1jo_KjxdZg",
        "outputId": "c9bb73d8-72f7-4910-b623-1c24010efbbd"
      },
      "execution_count": 17,
      "outputs": [
        {
          "output_type": "stream",
          "name": "stdout",
          "text": [
            "              precision    recall  f1-score   support\n",
            "\n",
            "           0       0.22      0.21      0.21       300\n",
            "           1       0.21      0.20      0.21       306\n",
            "           2       0.28      0.29      0.28       405\n",
            "           3       0.22      0.23      0.22       300\n",
            "\n",
            "    accuracy                           0.24      1311\n",
            "   macro avg       0.23      0.23      0.23      1311\n",
            "weighted avg       0.24      0.24      0.24      1311\n",
            "\n"
          ]
        }
      ]
    }
  ]
}